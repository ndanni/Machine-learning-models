{
  "cells": [
    {
      "cell_type": "code",
      "source": [
        "!curl https://temp56478.blob.core.windows.net/sefiyat/ecommerce.csv -o ecommerce.csv"
      ],
      "outputs": [
        {
          "output_type": "stream",
          "name": "stdout",
          "text": [
            "  % Total    % Received % Xferd  Average Speed   Time    Time     Time  Current\n",
            "                                 Dload  Upload   Total   Spent    Left  Speed\n",
            "100 9095k  100 9095k    0     0  32.5M      0 --:--:-- --:--:-- --:--:-- 32.4M\n"
          ]
        }
      ],
      "execution_count": 1,
      "metadata": {},
      "id": "b27a44db"
    },
    {
      "cell_type": "code",
      "source": [
        "import pandas as pd\n",
        "\n",
        "df = pd.read_csv('ecommerce.csv')\n",
        "df.head()"
      ],
      "outputs": [
        {
          "output_type": "stream",
          "name": "stderr",
          "text": [
            "/anaconda/envs/azureml_py36/lib/python3.6/site-packages/IPython/core/interactiveshell.py:3072: DtypeWarning: Columns (7,8,9,11) have mixed types. Specify dtype option on import or set low_memory=False.\n",
            "  interactivity=interactivity, compiler=compiler, result=result)\n"
          ]
        },
        {
          "output_type": "execute_result",
          "execution_count": 2,
          "data": {
            "text/plain": "    Order ID Order Date   Ship Date  Aging    Ship Mode    Product Category  \\\n0  AU-2015-1  11/9/2015  11/17/2015    8.0  First Class  Auto & Accessories   \n1  AU-2015-2  6/30/2015    7/2/2015    2.0  First Class  Auto & Accessories   \n2  AU-2015-3  12/5/2015  12/13/2015    8.0  First Class  Auto & Accessories   \n3  AU-2015-4   5/9/2015   5/16/2015    7.0  First Class  Auto & Accessories   \n4  AU-2015-5   7/9/2015   7/18/2015    9.0  First Class  Auto & Accessories   \n\n             Product   Sales Quantity Discount  ...  Shipping Cost  \\\n0  Car Media Players  140.00        2     0.05  ...           4.60   \n1       Car Speakers  211.00        3     0.03  ...          11.20   \n2    Car Body Covers  117.00        5     0.01  ...           3.10   \n3    Car & Bike Care  118.00        2     0.05  ...           2.60   \n4               Tyre  250.00        1     0.04  ...          16.00   \n\n  Order Priority Customer ID    Customer Name      Segment        City  \\\n0         Medium      LS-001     Lane Daniels     Consumer    Brisbane   \n1         Medium      IZ-002    Alvarado Kriz  Home Office      Berlin   \n2       Critical      EN-003       Moon Weien     Consumer     Porirua   \n3           High      AN-004  Sanchez Bergman    Corporate       Kabul   \n4       Critical      ON-005     Rowe Jackson    Corporate  Townsville   \n\n        State      Country        Region Months  \n0  Queensland    Australia       Oceania    Nov  \n1      Berlin      Germany       Central    Jun  \n2  Wellington  New Zealand       Oceania    Dec  \n3       Kabul  Afghanistan  Central Asia    May  \n4  Queensland    Australia       Oceania    Jul  \n\n[5 rows x 21 columns]",
            "text/html": "<div>\n<style scoped>\n    .dataframe tbody tr th:only-of-type {\n        vertical-align: middle;\n    }\n\n    .dataframe tbody tr th {\n        vertical-align: top;\n    }\n\n    .dataframe thead th {\n        text-align: right;\n    }\n</style>\n<table border=\"1\" class=\"dataframe\">\n  <thead>\n    <tr style=\"text-align: right;\">\n      <th></th>\n      <th>Order ID</th>\n      <th>Order Date</th>\n      <th>Ship Date</th>\n      <th>Aging</th>\n      <th>Ship Mode</th>\n      <th>Product Category</th>\n      <th>Product</th>\n      <th>Sales</th>\n      <th>Quantity</th>\n      <th>Discount</th>\n      <th>...</th>\n      <th>Shipping Cost</th>\n      <th>Order Priority</th>\n      <th>Customer ID</th>\n      <th>Customer Name</th>\n      <th>Segment</th>\n      <th>City</th>\n      <th>State</th>\n      <th>Country</th>\n      <th>Region</th>\n      <th>Months</th>\n    </tr>\n  </thead>\n  <tbody>\n    <tr>\n      <th>0</th>\n      <td>AU-2015-1</td>\n      <td>11/9/2015</td>\n      <td>11/17/2015</td>\n      <td>8.0</td>\n      <td>First Class</td>\n      <td>Auto &amp; Accessories</td>\n      <td>Car Media Players</td>\n      <td>140.00</td>\n      <td>2</td>\n      <td>0.05</td>\n      <td>...</td>\n      <td>4.60</td>\n      <td>Medium</td>\n      <td>LS-001</td>\n      <td>Lane Daniels</td>\n      <td>Consumer</td>\n      <td>Brisbane</td>\n      <td>Queensland</td>\n      <td>Australia</td>\n      <td>Oceania</td>\n      <td>Nov</td>\n    </tr>\n    <tr>\n      <th>1</th>\n      <td>AU-2015-2</td>\n      <td>6/30/2015</td>\n      <td>7/2/2015</td>\n      <td>2.0</td>\n      <td>First Class</td>\n      <td>Auto &amp; Accessories</td>\n      <td>Car Speakers</td>\n      <td>211.00</td>\n      <td>3</td>\n      <td>0.03</td>\n      <td>...</td>\n      <td>11.20</td>\n      <td>Medium</td>\n      <td>IZ-002</td>\n      <td>Alvarado Kriz</td>\n      <td>Home Office</td>\n      <td>Berlin</td>\n      <td>Berlin</td>\n      <td>Germany</td>\n      <td>Central</td>\n      <td>Jun</td>\n    </tr>\n    <tr>\n      <th>2</th>\n      <td>AU-2015-3</td>\n      <td>12/5/2015</td>\n      <td>12/13/2015</td>\n      <td>8.0</td>\n      <td>First Class</td>\n      <td>Auto &amp; Accessories</td>\n      <td>Car Body Covers</td>\n      <td>117.00</td>\n      <td>5</td>\n      <td>0.01</td>\n      <td>...</td>\n      <td>3.10</td>\n      <td>Critical</td>\n      <td>EN-003</td>\n      <td>Moon Weien</td>\n      <td>Consumer</td>\n      <td>Porirua</td>\n      <td>Wellington</td>\n      <td>New Zealand</td>\n      <td>Oceania</td>\n      <td>Dec</td>\n    </tr>\n    <tr>\n      <th>3</th>\n      <td>AU-2015-4</td>\n      <td>5/9/2015</td>\n      <td>5/16/2015</td>\n      <td>7.0</td>\n      <td>First Class</td>\n      <td>Auto &amp; Accessories</td>\n      <td>Car &amp; Bike Care</td>\n      <td>118.00</td>\n      <td>2</td>\n      <td>0.05</td>\n      <td>...</td>\n      <td>2.60</td>\n      <td>High</td>\n      <td>AN-004</td>\n      <td>Sanchez Bergman</td>\n      <td>Corporate</td>\n      <td>Kabul</td>\n      <td>Kabul</td>\n      <td>Afghanistan</td>\n      <td>Central Asia</td>\n      <td>May</td>\n    </tr>\n    <tr>\n      <th>4</th>\n      <td>AU-2015-5</td>\n      <td>7/9/2015</td>\n      <td>7/18/2015</td>\n      <td>9.0</td>\n      <td>First Class</td>\n      <td>Auto &amp; Accessories</td>\n      <td>Tyre</td>\n      <td>250.00</td>\n      <td>1</td>\n      <td>0.04</td>\n      <td>...</td>\n      <td>16.00</td>\n      <td>Critical</td>\n      <td>ON-005</td>\n      <td>Rowe Jackson</td>\n      <td>Corporate</td>\n      <td>Townsville</td>\n      <td>Queensland</td>\n      <td>Australia</td>\n      <td>Oceania</td>\n      <td>Jul</td>\n    </tr>\n  </tbody>\n</table>\n<p>5 rows × 21 columns</p>\n</div>"
          },
          "metadata": {}
        }
      ],
      "execution_count": 2,
      "metadata": {
        "gather": {
          "logged": 1620396381963
        }
      },
      "id": "d807b44c"
    },
    {
      "cell_type": "code",
      "source": [
        "df = pd.get_dummies(df, columns=['Ship Mode', 'Product Category', 'Product', 'Order Priority','Segment', 'City', 'State', 'Country', 'Region', 'Months'])\n",
        "df.head()"
      ],
      "outputs": [
        {
          "output_type": "execute_result",
          "execution_count": 3,
          "data": {
            "text/plain": "    Order ID Order Date   Ship Date  Aging   Sales Quantity Discount  Profit  \\\n0  AU-2015-1  11/9/2015  11/17/2015    8.0  140.00        2     0.05    46.0   \n1  AU-2015-2  6/30/2015    7/2/2015    2.0  211.00        3     0.03   112.0   \n2  AU-2015-3  12/5/2015  12/13/2015    8.0  117.00        5     0.01    31.2   \n3  AU-2015-4   5/9/2015   5/16/2015    7.0  118.00        2     0.05    26.2   \n4  AU-2015-5   7/9/2015   7/18/2015    9.0  250.00        1     0.04   160.0   \n\n  Shipping Cost Customer ID  ... Months_Dec  Months_Feb  Months_Jan  \\\n0          4.60      LS-001  ...          0           0           0   \n1         11.20      IZ-002  ...          0           0           0   \n2          3.10      EN-003  ...          1           0           0   \n3          2.60      AN-004  ...          0           0           0   \n4         16.00      ON-005  ...          0           0           0   \n\n   Months_Jul  Months_Jun  Months_Mar  Months_May  Months_Nov  Months_Oct  \\\n0           0           0           0           0           1           0   \n1           0           1           0           0           0           0   \n2           0           0           0           0           0           0   \n3           0           0           0           1           0           0   \n4           1           0           0           0           0           0   \n\n   Months_Sep  \n0           0  \n1           0  \n2           0  \n3           0  \n4           0  \n\n[5 rows x 4973 columns]",
            "text/html": "<div>\n<style scoped>\n    .dataframe tbody tr th:only-of-type {\n        vertical-align: middle;\n    }\n\n    .dataframe tbody tr th {\n        vertical-align: top;\n    }\n\n    .dataframe thead th {\n        text-align: right;\n    }\n</style>\n<table border=\"1\" class=\"dataframe\">\n  <thead>\n    <tr style=\"text-align: right;\">\n      <th></th>\n      <th>Order ID</th>\n      <th>Order Date</th>\n      <th>Ship Date</th>\n      <th>Aging</th>\n      <th>Sales</th>\n      <th>Quantity</th>\n      <th>Discount</th>\n      <th>Profit</th>\n      <th>Shipping Cost</th>\n      <th>Customer ID</th>\n      <th>...</th>\n      <th>Months_Dec</th>\n      <th>Months_Feb</th>\n      <th>Months_Jan</th>\n      <th>Months_Jul</th>\n      <th>Months_Jun</th>\n      <th>Months_Mar</th>\n      <th>Months_May</th>\n      <th>Months_Nov</th>\n      <th>Months_Oct</th>\n      <th>Months_Sep</th>\n    </tr>\n  </thead>\n  <tbody>\n    <tr>\n      <th>0</th>\n      <td>AU-2015-1</td>\n      <td>11/9/2015</td>\n      <td>11/17/2015</td>\n      <td>8.0</td>\n      <td>140.00</td>\n      <td>2</td>\n      <td>0.05</td>\n      <td>46.0</td>\n      <td>4.60</td>\n      <td>LS-001</td>\n      <td>...</td>\n      <td>0</td>\n      <td>0</td>\n      <td>0</td>\n      <td>0</td>\n      <td>0</td>\n      <td>0</td>\n      <td>0</td>\n      <td>1</td>\n      <td>0</td>\n      <td>0</td>\n    </tr>\n    <tr>\n      <th>1</th>\n      <td>AU-2015-2</td>\n      <td>6/30/2015</td>\n      <td>7/2/2015</td>\n      <td>2.0</td>\n      <td>211.00</td>\n      <td>3</td>\n      <td>0.03</td>\n      <td>112.0</td>\n      <td>11.20</td>\n      <td>IZ-002</td>\n      <td>...</td>\n      <td>0</td>\n      <td>0</td>\n      <td>0</td>\n      <td>0</td>\n      <td>1</td>\n      <td>0</td>\n      <td>0</td>\n      <td>0</td>\n      <td>0</td>\n      <td>0</td>\n    </tr>\n    <tr>\n      <th>2</th>\n      <td>AU-2015-3</td>\n      <td>12/5/2015</td>\n      <td>12/13/2015</td>\n      <td>8.0</td>\n      <td>117.00</td>\n      <td>5</td>\n      <td>0.01</td>\n      <td>31.2</td>\n      <td>3.10</td>\n      <td>EN-003</td>\n      <td>...</td>\n      <td>1</td>\n      <td>0</td>\n      <td>0</td>\n      <td>0</td>\n      <td>0</td>\n      <td>0</td>\n      <td>0</td>\n      <td>0</td>\n      <td>0</td>\n      <td>0</td>\n    </tr>\n    <tr>\n      <th>3</th>\n      <td>AU-2015-4</td>\n      <td>5/9/2015</td>\n      <td>5/16/2015</td>\n      <td>7.0</td>\n      <td>118.00</td>\n      <td>2</td>\n      <td>0.05</td>\n      <td>26.2</td>\n      <td>2.60</td>\n      <td>AN-004</td>\n      <td>...</td>\n      <td>0</td>\n      <td>0</td>\n      <td>0</td>\n      <td>0</td>\n      <td>0</td>\n      <td>0</td>\n      <td>1</td>\n      <td>0</td>\n      <td>0</td>\n      <td>0</td>\n    </tr>\n    <tr>\n      <th>4</th>\n      <td>AU-2015-5</td>\n      <td>7/9/2015</td>\n      <td>7/18/2015</td>\n      <td>9.0</td>\n      <td>250.00</td>\n      <td>1</td>\n      <td>0.04</td>\n      <td>160.0</td>\n      <td>16.00</td>\n      <td>ON-005</td>\n      <td>...</td>\n      <td>0</td>\n      <td>0</td>\n      <td>0</td>\n      <td>1</td>\n      <td>0</td>\n      <td>0</td>\n      <td>0</td>\n      <td>0</td>\n      <td>0</td>\n      <td>0</td>\n    </tr>\n  </tbody>\n</table>\n<p>5 rows × 4973 columns</p>\n</div>"
          },
          "metadata": {}
        }
      ],
      "execution_count": 3,
      "metadata": {
        "gather": {
          "logged": 1620396382738
        }
      },
      "id": "6e17a74d"
    },
    {
      "cell_type": "code",
      "source": [
        "df2 = df.drop(['Order ID', 'Order Date', 'Ship Date', 'Customer ID', 'Customer Name'], axis = 1)\n",
        "df2.head()"
      ],
      "outputs": [
        {
          "output_type": "execute_result",
          "execution_count": 4,
          "data": {
            "text/plain": "   Aging   Sales Quantity Discount  Profit Shipping Cost  Ship Mode_45788  \\\n0    8.0  140.00        2     0.05    46.0          4.60                0   \n1    2.0  211.00        3     0.03   112.0         11.20                0   \n2    8.0  117.00        5     0.01    31.2          3.10                0   \n3    7.0  118.00        2     0.05    26.2          2.60                0   \n4    9.0  250.00        1     0.04   160.0         16.00                0   \n\n   Ship Mode_First Class  Ship Mode_Same Day  Ship Mode_Second Class  ...  \\\n0                      1                   0                       0  ...   \n1                      1                   0                       0  ...   \n2                      1                   0                       0  ...   \n3                      1                   0                       0  ...   \n4                      1                   0                       0  ...   \n\n   Months_Dec  Months_Feb  Months_Jan  Months_Jul  Months_Jun  Months_Mar  \\\n0           0           0           0           0           0           0   \n1           0           0           0           0           1           0   \n2           1           0           0           0           0           0   \n3           0           0           0           0           0           0   \n4           0           0           0           1           0           0   \n\n   Months_May  Months_Nov  Months_Oct  Months_Sep  \n0           0           1           0           0  \n1           0           0           0           0  \n2           0           0           0           0  \n3           1           0           0           0  \n4           0           0           0           0  \n\n[5 rows x 4968 columns]",
            "text/html": "<div>\n<style scoped>\n    .dataframe tbody tr th:only-of-type {\n        vertical-align: middle;\n    }\n\n    .dataframe tbody tr th {\n        vertical-align: top;\n    }\n\n    .dataframe thead th {\n        text-align: right;\n    }\n</style>\n<table border=\"1\" class=\"dataframe\">\n  <thead>\n    <tr style=\"text-align: right;\">\n      <th></th>\n      <th>Aging</th>\n      <th>Sales</th>\n      <th>Quantity</th>\n      <th>Discount</th>\n      <th>Profit</th>\n      <th>Shipping Cost</th>\n      <th>Ship Mode_45788</th>\n      <th>Ship Mode_First Class</th>\n      <th>Ship Mode_Same Day</th>\n      <th>Ship Mode_Second Class</th>\n      <th>...</th>\n      <th>Months_Dec</th>\n      <th>Months_Feb</th>\n      <th>Months_Jan</th>\n      <th>Months_Jul</th>\n      <th>Months_Jun</th>\n      <th>Months_Mar</th>\n      <th>Months_May</th>\n      <th>Months_Nov</th>\n      <th>Months_Oct</th>\n      <th>Months_Sep</th>\n    </tr>\n  </thead>\n  <tbody>\n    <tr>\n      <th>0</th>\n      <td>8.0</td>\n      <td>140.00</td>\n      <td>2</td>\n      <td>0.05</td>\n      <td>46.0</td>\n      <td>4.60</td>\n      <td>0</td>\n      <td>1</td>\n      <td>0</td>\n      <td>0</td>\n      <td>...</td>\n      <td>0</td>\n      <td>0</td>\n      <td>0</td>\n      <td>0</td>\n      <td>0</td>\n      <td>0</td>\n      <td>0</td>\n      <td>1</td>\n      <td>0</td>\n      <td>0</td>\n    </tr>\n    <tr>\n      <th>1</th>\n      <td>2.0</td>\n      <td>211.00</td>\n      <td>3</td>\n      <td>0.03</td>\n      <td>112.0</td>\n      <td>11.20</td>\n      <td>0</td>\n      <td>1</td>\n      <td>0</td>\n      <td>0</td>\n      <td>...</td>\n      <td>0</td>\n      <td>0</td>\n      <td>0</td>\n      <td>0</td>\n      <td>1</td>\n      <td>0</td>\n      <td>0</td>\n      <td>0</td>\n      <td>0</td>\n      <td>0</td>\n    </tr>\n    <tr>\n      <th>2</th>\n      <td>8.0</td>\n      <td>117.00</td>\n      <td>5</td>\n      <td>0.01</td>\n      <td>31.2</td>\n      <td>3.10</td>\n      <td>0</td>\n      <td>1</td>\n      <td>0</td>\n      <td>0</td>\n      <td>...</td>\n      <td>1</td>\n      <td>0</td>\n      <td>0</td>\n      <td>0</td>\n      <td>0</td>\n      <td>0</td>\n      <td>0</td>\n      <td>0</td>\n      <td>0</td>\n      <td>0</td>\n    </tr>\n    <tr>\n      <th>3</th>\n      <td>7.0</td>\n      <td>118.00</td>\n      <td>2</td>\n      <td>0.05</td>\n      <td>26.2</td>\n      <td>2.60</td>\n      <td>0</td>\n      <td>1</td>\n      <td>0</td>\n      <td>0</td>\n      <td>...</td>\n      <td>0</td>\n      <td>0</td>\n      <td>0</td>\n      <td>0</td>\n      <td>0</td>\n      <td>0</td>\n      <td>1</td>\n      <td>0</td>\n      <td>0</td>\n      <td>0</td>\n    </tr>\n    <tr>\n      <th>4</th>\n      <td>9.0</td>\n      <td>250.00</td>\n      <td>1</td>\n      <td>0.04</td>\n      <td>160.0</td>\n      <td>16.00</td>\n      <td>0</td>\n      <td>1</td>\n      <td>0</td>\n      <td>0</td>\n      <td>...</td>\n      <td>0</td>\n      <td>0</td>\n      <td>0</td>\n      <td>1</td>\n      <td>0</td>\n      <td>0</td>\n      <td>0</td>\n      <td>0</td>\n      <td>0</td>\n      <td>0</td>\n    </tr>\n  </tbody>\n</table>\n<p>5 rows × 4968 columns</p>\n</div>"
          },
          "metadata": {}
        }
      ],
      "execution_count": 4,
      "metadata": {
        "gather": {
          "logged": 1620396383206
        }
      },
      "id": "2b709ec9"
    },
    {
      "cell_type": "code",
      "source": [
        "import numpy as np\r\n",
        "from sklearn.model_selection import train_test_split\r\n",
        "from sklearn.model_selection import KFold\r\n",
        "from sklearn.linear_model import SGDClassifier\r\n",
        "\r\n",
        "X, y = train_test_split(df2, test_size=0.2, random_state=42)\r\n",
        "\r\n",
        "clf = SGDClassifier()\r\n",
        "\r\n",
        "kf = KFold(n_splits=2)\r\n",
        "kf_splits = kf.split(X)\r\n",
        "\r\n",
        "train_index, test_index = next(kf_splits)\r\n",
        "# partial-fit with training data. On the first call\r\n",
        "# the classes must be provided\r\n",
        "\r\n",
        "clf.partial_fit(X[train_index], y[test_index])\r\n",
        "\r\n",
        "# re-training on new data\r\n",
        "train_index, test_index = next(kf_splits)\r\n",
        "clf.partial_fit(X[train_index], y[test_index])"
      ],
      "outputs": [
        {
          "output_type": "error",
          "ename": "KeyError",
          "evalue": "\"None of [Int64Index([20516, 20517, 20518, 20519, 20520, 20521, 20522, 20523, 20524,\\n            20525,\\n            ...\\n            41022, 41023, 41024, 41025, 41026, 41027, 41028, 41029, 41030,\\n            41031],\\n           dtype='int64', length=20516)] are in the [columns]\"",
          "traceback": [
            "\u001b[0;31m---------------------------------------------------------------------------\u001b[0m",
            "\u001b[0;31mKeyError\u001b[0m                                  Traceback (most recent call last)",
            "\u001b[0;32m<ipython-input-6-e68bc6236d8b>\u001b[0m in \u001b[0;36m<module>\u001b[0;34m\u001b[0m\n\u001b[1;32m     15\u001b[0m \u001b[0;31m# the classes must be provided\u001b[0m\u001b[0;34m\u001b[0m\u001b[0;34m\u001b[0m\u001b[0;34m\u001b[0m\u001b[0m\n\u001b[1;32m     16\u001b[0m \u001b[0;34m\u001b[0m\u001b[0m\n\u001b[0;32m---> 17\u001b[0;31m \u001b[0mclf\u001b[0m\u001b[0;34m.\u001b[0m\u001b[0mpartial_fit\u001b[0m\u001b[0;34m(\u001b[0m\u001b[0mX\u001b[0m\u001b[0;34m[\u001b[0m\u001b[0mtrain_index\u001b[0m\u001b[0;34m]\u001b[0m\u001b[0;34m,\u001b[0m \u001b[0my\u001b[0m\u001b[0;34m[\u001b[0m\u001b[0mtest_index\u001b[0m\u001b[0;34m]\u001b[0m\u001b[0;34m)\u001b[0m\u001b[0;34m\u001b[0m\u001b[0;34m\u001b[0m\u001b[0m\n\u001b[0m\u001b[1;32m     18\u001b[0m \u001b[0;34m\u001b[0m\u001b[0m\n\u001b[1;32m     19\u001b[0m \u001b[0;31m# re-training on new data\u001b[0m\u001b[0;34m\u001b[0m\u001b[0;34m\u001b[0m\u001b[0;34m\u001b[0m\u001b[0m\n",
            "\u001b[0;32m/anaconda/envs/azureml_py36/lib/python3.6/site-packages/pandas/core/frame.py\u001b[0m in \u001b[0;36m__getitem__\u001b[0;34m(self, key)\u001b[0m\n\u001b[1;32m   2999\u001b[0m             \u001b[0;32mif\u001b[0m \u001b[0mis_iterator\u001b[0m\u001b[0;34m(\u001b[0m\u001b[0mkey\u001b[0m\u001b[0;34m)\u001b[0m\u001b[0;34m:\u001b[0m\u001b[0;34m\u001b[0m\u001b[0;34m\u001b[0m\u001b[0m\n\u001b[1;32m   3000\u001b[0m                 \u001b[0mkey\u001b[0m \u001b[0;34m=\u001b[0m \u001b[0mlist\u001b[0m\u001b[0;34m(\u001b[0m\u001b[0mkey\u001b[0m\u001b[0;34m)\u001b[0m\u001b[0;34m\u001b[0m\u001b[0;34m\u001b[0m\u001b[0m\n\u001b[0;32m-> 3001\u001b[0;31m             \u001b[0mindexer\u001b[0m \u001b[0;34m=\u001b[0m \u001b[0mself\u001b[0m\u001b[0;34m.\u001b[0m\u001b[0mloc\u001b[0m\u001b[0;34m.\u001b[0m\u001b[0m_convert_to_indexer\u001b[0m\u001b[0;34m(\u001b[0m\u001b[0mkey\u001b[0m\u001b[0;34m,\u001b[0m \u001b[0maxis\u001b[0m\u001b[0;34m=\u001b[0m\u001b[0;36m1\u001b[0m\u001b[0;34m,\u001b[0m \u001b[0mraise_missing\u001b[0m\u001b[0;34m=\u001b[0m\u001b[0;32mTrue\u001b[0m\u001b[0;34m)\u001b[0m\u001b[0;34m\u001b[0m\u001b[0;34m\u001b[0m\u001b[0m\n\u001b[0m\u001b[1;32m   3002\u001b[0m \u001b[0;34m\u001b[0m\u001b[0m\n\u001b[1;32m   3003\u001b[0m         \u001b[0;31m# take() does not accept boolean indexers\u001b[0m\u001b[0;34m\u001b[0m\u001b[0;34m\u001b[0m\u001b[0;34m\u001b[0m\u001b[0m\n",
            "\u001b[0;32m/anaconda/envs/azureml_py36/lib/python3.6/site-packages/pandas/core/indexing.py\u001b[0m in \u001b[0;36m_convert_to_indexer\u001b[0;34m(self, obj, axis, is_setter, raise_missing)\u001b[0m\n\u001b[1;32m   1283\u001b[0m                 \u001b[0;31m# When setting, missing keys are not allowed, even with .loc:\u001b[0m\u001b[0;34m\u001b[0m\u001b[0;34m\u001b[0m\u001b[0;34m\u001b[0m\u001b[0m\n\u001b[1;32m   1284\u001b[0m                 \u001b[0mkwargs\u001b[0m \u001b[0;34m=\u001b[0m \u001b[0;34m{\u001b[0m\u001b[0;34m\"raise_missing\"\u001b[0m\u001b[0;34m:\u001b[0m \u001b[0;32mTrue\u001b[0m \u001b[0;32mif\u001b[0m \u001b[0mis_setter\u001b[0m \u001b[0;32melse\u001b[0m \u001b[0mraise_missing\u001b[0m\u001b[0;34m}\u001b[0m\u001b[0;34m\u001b[0m\u001b[0;34m\u001b[0m\u001b[0m\n\u001b[0;32m-> 1285\u001b[0;31m                 \u001b[0;32mreturn\u001b[0m \u001b[0mself\u001b[0m\u001b[0;34m.\u001b[0m\u001b[0m_get_listlike_indexer\u001b[0m\u001b[0;34m(\u001b[0m\u001b[0mobj\u001b[0m\u001b[0;34m,\u001b[0m \u001b[0maxis\u001b[0m\u001b[0;34m,\u001b[0m \u001b[0;34m**\u001b[0m\u001b[0mkwargs\u001b[0m\u001b[0;34m)\u001b[0m\u001b[0;34m[\u001b[0m\u001b[0;36m1\u001b[0m\u001b[0;34m]\u001b[0m\u001b[0;34m\u001b[0m\u001b[0;34m\u001b[0m\u001b[0m\n\u001b[0m\u001b[1;32m   1286\u001b[0m         \u001b[0;32melse\u001b[0m\u001b[0;34m:\u001b[0m\u001b[0;34m\u001b[0m\u001b[0;34m\u001b[0m\u001b[0m\n\u001b[1;32m   1287\u001b[0m             \u001b[0;32mtry\u001b[0m\u001b[0;34m:\u001b[0m\u001b[0;34m\u001b[0m\u001b[0;34m\u001b[0m\u001b[0m\n",
            "\u001b[0;32m/anaconda/envs/azureml_py36/lib/python3.6/site-packages/pandas/core/indexing.py\u001b[0m in \u001b[0;36m_get_listlike_indexer\u001b[0;34m(self, key, axis, raise_missing)\u001b[0m\n\u001b[1;32m   1090\u001b[0m \u001b[0;34m\u001b[0m\u001b[0m\n\u001b[1;32m   1091\u001b[0m         self._validate_read_indexer(\n\u001b[0;32m-> 1092\u001b[0;31m             \u001b[0mkeyarr\u001b[0m\u001b[0;34m,\u001b[0m \u001b[0mindexer\u001b[0m\u001b[0;34m,\u001b[0m \u001b[0mo\u001b[0m\u001b[0;34m.\u001b[0m\u001b[0m_get_axis_number\u001b[0m\u001b[0;34m(\u001b[0m\u001b[0maxis\u001b[0m\u001b[0;34m)\u001b[0m\u001b[0;34m,\u001b[0m \u001b[0mraise_missing\u001b[0m\u001b[0;34m=\u001b[0m\u001b[0mraise_missing\u001b[0m\u001b[0;34m\u001b[0m\u001b[0;34m\u001b[0m\u001b[0m\n\u001b[0m\u001b[1;32m   1093\u001b[0m         )\n\u001b[1;32m   1094\u001b[0m         \u001b[0;32mreturn\u001b[0m \u001b[0mkeyarr\u001b[0m\u001b[0;34m,\u001b[0m \u001b[0mindexer\u001b[0m\u001b[0;34m\u001b[0m\u001b[0;34m\u001b[0m\u001b[0m\n",
            "\u001b[0;32m/anaconda/envs/azureml_py36/lib/python3.6/site-packages/pandas/core/indexing.py\u001b[0m in \u001b[0;36m_validate_read_indexer\u001b[0;34m(self, key, indexer, axis, raise_missing)\u001b[0m\n\u001b[1;32m   1175\u001b[0m                 raise KeyError(\n\u001b[1;32m   1176\u001b[0m                     \"None of [{key}] are in the [{axis}]\".format(\n\u001b[0;32m-> 1177\u001b[0;31m                         \u001b[0mkey\u001b[0m\u001b[0;34m=\u001b[0m\u001b[0mkey\u001b[0m\u001b[0;34m,\u001b[0m \u001b[0maxis\u001b[0m\u001b[0;34m=\u001b[0m\u001b[0mself\u001b[0m\u001b[0;34m.\u001b[0m\u001b[0mobj\u001b[0m\u001b[0;34m.\u001b[0m\u001b[0m_get_axis_name\u001b[0m\u001b[0;34m(\u001b[0m\u001b[0maxis\u001b[0m\u001b[0;34m)\u001b[0m\u001b[0;34m\u001b[0m\u001b[0;34m\u001b[0m\u001b[0m\n\u001b[0m\u001b[1;32m   1178\u001b[0m                     )\n\u001b[1;32m   1179\u001b[0m                 )\n",
            "\u001b[0;31mKeyError\u001b[0m: \"None of [Int64Index([20516, 20517, 20518, 20519, 20520, 20521, 20522, 20523, 20524,\\n            20525,\\n            ...\\n            41022, 41023, 41024, 41025, 41026, 41027, 41028, 41029, 41030,\\n            41031],\\n           dtype='int64', length=20516)] are in the [columns]\""
          ]
        }
      ],
      "execution_count": 6,
      "metadata": {
        "collapsed": true,
        "jupyter": {
          "source_hidden": false,
          "outputs_hidden": false
        },
        "nteract": {
          "transient": {
            "deleting": false
          }
        }
      },
      "id": "eb463012-b283-46f9-aa3d-a901ed628573"
    },
    {
      "cell_type": "code",
      "source": [
        "import numpy as np\n",
        "from sklearn.model_selection import train_test_split\n",
        "from sklearn.model_selection import KFold\n",
        "from sklearn.linear_model import SGDClassifier\n",
        "train_x, test_x, train_y, test_y = train_test_split(df2.drop('Profit', axis=1), df['Profit'], test_size=0.2, random_state=42)"
      ],
      "outputs": [],
      "execution_count": null,
      "metadata": {
        "gather": {
          "logged": 1620391029178
        }
      },
      "id": "9b9795d3"
    },
    {
      "cell_type": "code",
      "source": [
        "clf = SGDClassifier()\r\n",
        "\r\n",
        "kf = KFold(n_splits=2)\r\n",
        "kf_splits = kf.split(df2.drop('Profit'))\r\n",
        "\r\n",
        "train_x, test_y = next(kf_splits)\r\n",
        "# partial-fit with training data. On the first call\r\n",
        "# the classes must be provided\r\n",
        "clf.partial_fit(df2.drop('Profit')[train_y],  df['Profit'][train_x, classes=np.unique(df['Profit']))\r\n",
        "\r\n",
        "train_x, test_x = next(kf_splits)\r\n",
        "clf.partial_fit(X[train_x], y[train_x])"
      ],
      "outputs": [],
      "execution_count": null,
      "metadata": {},
      "id": "a321cfb8"
    },
    {
      "cell_type": "code",
      "source": [],
      "outputs": [],
      "execution_count": null,
      "metadata": {
        "collapsed": true,
        "jupyter": {
          "source_hidden": false,
          "outputs_hidden": false
        },
        "nteract": {
          "transient": {
            "deleting": false
          }
        }
      },
      "id": "0d3e5efc-a3ae-4878-b1d0-afd492739234"
    }
  ],
  "metadata": {
    "kernelspec": {
      "name": "python3-azureml",
      "language": "python",
      "display_name": "Python 3.6 - AzureML"
    },
    "language_info": {
      "name": "python",
      "version": "3.6.9",
      "mimetype": "text/x-python",
      "codemirror_mode": {
        "name": "ipython",
        "version": 3
      },
      "pygments_lexer": "ipython3",
      "nbconvert_exporter": "python",
      "file_extension": ".py"
    },
    "kernel_info": {
      "name": "python3-azureml"
    },
    "nteract": {
      "version": "nteract-front-end@1.0.0"
    }
  },
  "nbformat": 4,
  "nbformat_minor": 5
}