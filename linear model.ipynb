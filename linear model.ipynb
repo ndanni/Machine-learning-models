{
  "cells": [
    {
      "cell_type": "markdown",
      "source": [
        "## Download and prepare data"
      ],
      "metadata": {}
    },
    {
      "cell_type": "markdown",
      "source": [
        "Import the necessary packages."
      ],
      "metadata": {}
    },
    {
      "cell_type": "code",
      "source": [
        "import pandas as pd\n",
        "import matplotlib.pyplot as plt\n",
        "import numpy as np\n",
        "from azureml.core import Dataset"
      ],
      "outputs": [],
      "execution_count": 250,
      "metadata": {
        "gather": {
          "logged": 1619519706493
        }
      }
    },
    {
      "cell_type": "code",
      "source": [
        "# azureml-core of version 1.0.72 or higher is required\n",
        "# azureml-dataprep[pandas] of version 1.1.34 or higher is required\n",
        "from azureml.core import Workspace, Dataset\n",
        "\n",
        "subscription_id = '*********'\n",
        "resource_group = 'machine'\n",
        "workspace_name = 'modelling'\n",
        "\n",
        "workspace = Workspace(subscription_id, resource_group, workspace_name)\n",
        "\n",
        "dataset = Dataset.get_by_name(workspace, name='E-commerce')\n",
        "dataset = dataset.to_pandas_dataframe()\n",
        "dataset"
      ],
      "outputs": [
        {
          "output_type": "execute_result",
          "execution_count": 236,
          "data": {
            "text/html": "<div>\n<style scoped>\n    .dataframe tbody tr th:only-of-type {\n        vertical-align: middle;\n    }\n\n    .dataframe tbody tr th {\n        vertical-align: top;\n    }\n\n    .dataframe thead th {\n        text-align: right;\n    }\n</style>\n<table border=\"1\" class=\"dataframe\">\n  <thead>\n    <tr style=\"text-align: right;\">\n      <th></th>\n      <th>Order ID</th>\n      <th>Order Date</th>\n      <th>Ship Date</th>\n      <th>Aging</th>\n      <th>Ship Mode</th>\n      <th>Product Category</th>\n      <th>Product</th>\n      <th>Sales</th>\n      <th>Quantity</th>\n      <th>Discount</th>\n      <th>...</th>\n      <th>Shipping Cost</th>\n      <th>Order Priority</th>\n      <th>Customer ID</th>\n      <th>Customer Name</th>\n      <th>Segment</th>\n      <th>City</th>\n      <th>State</th>\n      <th>Country</th>\n      <th>Region</th>\n      <th>Months</th>\n    </tr>\n  </thead>\n  <tbody>\n    <tr>\n      <th>0</th>\n      <td>AU-2015-1</td>\n      <td>2015-11-09</td>\n      <td>2015-11-17</td>\n      <td>8.0</td>\n      <td>First Class</td>\n      <td>Auto &amp; Accessories</td>\n      <td>Car Media Players</td>\n      <td>140.0</td>\n      <td>2.0</td>\n      <td>0.05</td>\n      <td>...</td>\n      <td>4.6</td>\n      <td>Medium</td>\n      <td>LS-001</td>\n      <td>Lane Daniels</td>\n      <td>Consumer</td>\n      <td>Brisbane</td>\n      <td>Queensland</td>\n      <td>Australia</td>\n      <td>Oceania</td>\n      <td>Nov</td>\n    </tr>\n    <tr>\n      <th>1</th>\n      <td>AU-2015-2</td>\n      <td>2015-06-30</td>\n      <td>2015-07-02</td>\n      <td>2.0</td>\n      <td>First Class</td>\n      <td>Auto &amp; Accessories</td>\n      <td>Car Speakers</td>\n      <td>211.0</td>\n      <td>3.0</td>\n      <td>0.03</td>\n      <td>...</td>\n      <td>11.2</td>\n      <td>Medium</td>\n      <td>IZ-002</td>\n      <td>Alvarado Kriz</td>\n      <td>Home Office</td>\n      <td>Berlin</td>\n      <td>Berlin</td>\n      <td>Germany</td>\n      <td>Central</td>\n      <td>Jun</td>\n    </tr>\n    <tr>\n      <th>2</th>\n      <td>AU-2015-3</td>\n      <td>2015-12-05</td>\n      <td>2015-12-13</td>\n      <td>8.0</td>\n      <td>First Class</td>\n      <td>Auto &amp; Accessories</td>\n      <td>Car Body Covers</td>\n      <td>117.0</td>\n      <td>5.0</td>\n      <td>0.01</td>\n      <td>...</td>\n      <td>3.1</td>\n      <td>Critical</td>\n      <td>EN-003</td>\n      <td>Moon Weien</td>\n      <td>Consumer</td>\n      <td>Porirua</td>\n      <td>Wellington</td>\n      <td>New Zealand</td>\n      <td>Oceania</td>\n      <td>Dec</td>\n    </tr>\n    <tr>\n      <th>3</th>\n      <td>AU-2015-4</td>\n      <td>2015-05-09</td>\n      <td>2015-05-16</td>\n      <td>7.0</td>\n      <td>First Class</td>\n      <td>Auto &amp; Accessories</td>\n      <td>Car &amp; Bike Care</td>\n      <td>118.0</td>\n      <td>2.0</td>\n      <td>0.05</td>\n      <td>...</td>\n      <td>2.6</td>\n      <td>High</td>\n      <td>AN-004</td>\n      <td>Sanchez Bergman</td>\n      <td>Corporate</td>\n      <td>Kabul</td>\n      <td>Kabul</td>\n      <td>Afghanistan</td>\n      <td>Central Asia</td>\n      <td>May</td>\n    </tr>\n    <tr>\n      <th>4</th>\n      <td>AU-2015-5</td>\n      <td>2015-07-09</td>\n      <td>2015-07-18</td>\n      <td>9.0</td>\n      <td>First Class</td>\n      <td>Auto &amp; Accessories</td>\n      <td>Tyre</td>\n      <td>250.0</td>\n      <td>1.0</td>\n      <td>0.04</td>\n      <td>...</td>\n      <td>16.0</td>\n      <td>Critical</td>\n      <td>ON-005</td>\n      <td>Rowe Jackson</td>\n      <td>Corporate</td>\n      <td>Townsville</td>\n      <td>Queensland</td>\n      <td>Australia</td>\n      <td>Oceania</td>\n      <td>Jul</td>\n    </tr>\n    <tr>\n      <th>...</th>\n      <td>...</td>\n      <td>...</td>\n      <td>...</td>\n      <td>...</td>\n      <td>...</td>\n      <td>...</td>\n      <td>...</td>\n      <td>...</td>\n      <td>...</td>\n      <td>...</td>\n      <td>...</td>\n      <td>...</td>\n      <td>...</td>\n      <td>...</td>\n      <td>...</td>\n      <td>...</td>\n      <td>...</td>\n      <td>...</td>\n      <td>...</td>\n      <td>...</td>\n      <td>...</td>\n    </tr>\n    <tr>\n      <th>51285</th>\n      <td>FA-2015-30771</td>\n      <td>2015-01-21</td>\n      <td>2015-01-27</td>\n      <td>6.0</td>\n      <td>Standard Class</td>\n      <td>Fashion</td>\n      <td>Sports Wear</td>\n      <td>85.0</td>\n      <td>5.0</td>\n      <td>0.04</td>\n      <td>...</td>\n      <td>1.7</td>\n      <td>Medium</td>\n      <td>IN-0040977</td>\n      <td>Welch Fein</td>\n      <td>Corporate</td>\n      <td>Pasadena</td>\n      <td>Texas</td>\n      <td>United States</td>\n      <td>Central</td>\n      <td>Jan</td>\n    </tr>\n    <tr>\n      <th>51286</th>\n      <td>FA-2015-30772</td>\n      <td>2015-06-22</td>\n      <td>2015-06-24</td>\n      <td>2.0</td>\n      <td>Standard Class</td>\n      <td>Fashion</td>\n      <td>Sports Wear</td>\n      <td>85.0</td>\n      <td>1.0</td>\n      <td>0.03</td>\n      <td>...</td>\n      <td>0.2</td>\n      <td>Medium</td>\n      <td>TT-0040978</td>\n      <td>Martinez Arnett</td>\n      <td>Corporate</td>\n      <td>Harare</td>\n      <td>Harare</td>\n      <td>Zimbabwe</td>\n      <td>Africa</td>\n      <td>Jun</td>\n    </tr>\n    <tr>\n      <th>51287</th>\n      <td>FA-2015-30773</td>\n      <td>2015-01-01</td>\n      <td>2015-01-07</td>\n      <td>6.0</td>\n      <td>Standard Class</td>\n      <td>Fashion</td>\n      <td>Sports Wear</td>\n      <td>85.0</td>\n      <td>1.0</td>\n      <td>0.05</td>\n      <td>...</td>\n      <td>0.1</td>\n      <td>Medium</td>\n      <td>ON-0040979</td>\n      <td>Mccoy Duston</td>\n      <td>Home Office</td>\n      <td>Townsville</td>\n      <td>Queensland</td>\n      <td>Australia</td>\n      <td>Oceania</td>\n      <td>Jan</td>\n    </tr>\n    <tr>\n      <th>51288</th>\n      <td>FA-2015-30774</td>\n      <td>2015-12-07</td>\n      <td>2015-12-14</td>\n      <td>7.0</td>\n      <td>Standard Class</td>\n      <td>Fashion</td>\n      <td>Sports Wear</td>\n      <td>85.0</td>\n      <td>3.0</td>\n      <td>0.04</td>\n      <td>...</td>\n      <td>2.8</td>\n      <td>Medium</td>\n      <td>RN-0040980</td>\n      <td>Bentley Zypern</td>\n      <td>Consumer</td>\n      <td>Houston</td>\n      <td>Texas</td>\n      <td>United States</td>\n      <td>Central</td>\n      <td>Dec</td>\n    </tr>\n    <tr>\n      <th>51289</th>\n      <td>FA-2015-30775</td>\n      <td>2015-12-01</td>\n      <td>2015-12-06</td>\n      <td>5.0</td>\n      <td>Standard Class</td>\n      <td>Fashion</td>\n      <td>Sports Wear</td>\n      <td>85.0</td>\n      <td>3.0</td>\n      <td>0.03</td>\n      <td>...</td>\n      <td>2.8</td>\n      <td>Medium</td>\n      <td>RZ-0040981</td>\n      <td>Mcclure Schwarz</td>\n      <td>Home Office</td>\n      <td>Valinhos</td>\n      <td>São Paulo</td>\n      <td>Brazil</td>\n      <td>South</td>\n      <td>Dec</td>\n    </tr>\n  </tbody>\n</table>\n<p>51290 rows × 21 columns</p>\n</div>",
            "text/plain": "            Order ID Order Date  Ship Date  Aging       Ship Mode  \\\n0          AU-2015-1 2015-11-09 2015-11-17    8.0     First Class   \n1          AU-2015-2 2015-06-30 2015-07-02    2.0     First Class   \n2          AU-2015-3 2015-12-05 2015-12-13    8.0     First Class   \n3          AU-2015-4 2015-05-09 2015-05-16    7.0     First Class   \n4          AU-2015-5 2015-07-09 2015-07-18    9.0     First Class   \n...              ...        ...        ...    ...             ...   \n51285  FA-2015-30771 2015-01-21 2015-01-27    6.0  Standard Class   \n51286  FA-2015-30772 2015-06-22 2015-06-24    2.0  Standard Class   \n51287  FA-2015-30773 2015-01-01 2015-01-07    6.0  Standard Class   \n51288  FA-2015-30774 2015-12-07 2015-12-14    7.0  Standard Class   \n51289  FA-2015-30775 2015-12-01 2015-12-06    5.0  Standard Class   \n\n         Product Category            Product  Sales  Quantity  Discount  ...  \\\n0      Auto & Accessories  Car Media Players  140.0       2.0      0.05  ...   \n1      Auto & Accessories       Car Speakers  211.0       3.0      0.03  ...   \n2      Auto & Accessories    Car Body Covers  117.0       5.0      0.01  ...   \n3      Auto & Accessories    Car & Bike Care  118.0       2.0      0.05  ...   \n4      Auto & Accessories               Tyre  250.0       1.0      0.04  ...   \n...                   ...                ...    ...       ...       ...  ...   \n51285             Fashion        Sports Wear   85.0       5.0      0.04  ...   \n51286             Fashion        Sports Wear   85.0       1.0      0.03  ...   \n51287             Fashion        Sports Wear   85.0       1.0      0.05  ...   \n51288             Fashion        Sports Wear   85.0       3.0      0.04  ...   \n51289             Fashion        Sports Wear   85.0       3.0      0.03  ...   \n\n       Shipping Cost  Order Priority Customer ID    Customer Name  \\\n0                4.6          Medium      LS-001     Lane Daniels   \n1               11.2          Medium      IZ-002    Alvarado Kriz   \n2                3.1        Critical      EN-003       Moon Weien   \n3                2.6            High      AN-004  Sanchez Bergman   \n4               16.0        Critical      ON-005     Rowe Jackson   \n...              ...             ...         ...              ...   \n51285            1.7          Medium  IN-0040977       Welch Fein   \n51286            0.2          Medium  TT-0040978  Martinez Arnett   \n51287            0.1          Medium  ON-0040979     Mccoy Duston   \n51288            2.8          Medium  RN-0040980   Bentley Zypern   \n51289            2.8          Medium  RZ-0040981  Mcclure Schwarz   \n\n           Segment        City       State        Country        Region Months  \n0         Consumer    Brisbane  Queensland      Australia       Oceania    Nov  \n1      Home Office      Berlin      Berlin        Germany       Central    Jun  \n2         Consumer     Porirua  Wellington    New Zealand       Oceania    Dec  \n3        Corporate       Kabul       Kabul    Afghanistan  Central Asia    May  \n4        Corporate  Townsville  Queensland      Australia       Oceania    Jul  \n...            ...         ...         ...            ...           ...    ...  \n51285    Corporate    Pasadena       Texas  United States       Central    Jan  \n51286    Corporate      Harare      Harare       Zimbabwe        Africa    Jun  \n51287  Home Office  Townsville  Queensland      Australia       Oceania    Jan  \n51288     Consumer     Houston       Texas  United States       Central    Dec  \n51289  Home Office    Valinhos   São Paulo         Brazil         South    Dec  \n\n[51290 rows x 21 columns]"
          },
          "metadata": {}
        }
      ],
      "execution_count": 236,
      "metadata": {
        "gather": {
          "logged": 1619519710196
        },
        "jupyter": {
          "outputs_hidden": false,
          "source_hidden": false
        },
        "nteract": {
          "transient": {
            "deleting": false
          }
        }
      }
    },
    {
      "cell_type": "markdown",
      "source": [
        "Remove some of the columns that you won't need for training or additional feature building."
      ],
      "metadata": {}
    },
    {
      "cell_type": "code",
      "source": [
        "cols = [\"Order ID\", \"Order Date\", \"Ship Date\", \"Order Priority\", \"Customer ID\", \"Customer Name\",\n",
        "                     \"Segment\", \"Ship Mode\", \"Product Category\", \"Product\", \"City\", \"State\",\"Country\",\"Region\",\"Months\"\n",
        "                    ]\n",
        "for col in cols:\n",
        "    dataset.pop(col)\n",
        "    \n",
        "dataset.head()"
      ],
      "outputs": [
        {
          "output_type": "execute_result",
          "execution_count": 237,
          "data": {
            "text/html": "<div>\n<style scoped>\n    .dataframe tbody tr th:only-of-type {\n        vertical-align: middle;\n    }\n\n    .dataframe tbody tr th {\n        vertical-align: top;\n    }\n\n    .dataframe thead th {\n        text-align: right;\n    }\n</style>\n<table border=\"1\" class=\"dataframe\">\n  <thead>\n    <tr style=\"text-align: right;\">\n      <th></th>\n      <th>Aging</th>\n      <th>Sales</th>\n      <th>Quantity</th>\n      <th>Discount</th>\n      <th>Profit</th>\n      <th>Shipping Cost</th>\n    </tr>\n  </thead>\n  <tbody>\n    <tr>\n      <th>0</th>\n      <td>8.0</td>\n      <td>140.0</td>\n      <td>2.0</td>\n      <td>0.05</td>\n      <td>46.0</td>\n      <td>4.6</td>\n    </tr>\n    <tr>\n      <th>1</th>\n      <td>2.0</td>\n      <td>211.0</td>\n      <td>3.0</td>\n      <td>0.03</td>\n      <td>112.0</td>\n      <td>11.2</td>\n    </tr>\n    <tr>\n      <th>2</th>\n      <td>8.0</td>\n      <td>117.0</td>\n      <td>5.0</td>\n      <td>0.01</td>\n      <td>31.2</td>\n      <td>3.1</td>\n    </tr>\n    <tr>\n      <th>3</th>\n      <td>7.0</td>\n      <td>118.0</td>\n      <td>2.0</td>\n      <td>0.05</td>\n      <td>26.2</td>\n      <td>2.6</td>\n    </tr>\n    <tr>\n      <th>4</th>\n      <td>9.0</td>\n      <td>250.0</td>\n      <td>1.0</td>\n      <td>0.04</td>\n      <td>160.0</td>\n      <td>16.0</td>\n    </tr>\n  </tbody>\n</table>\n</div>",
            "text/plain": "   Aging  Sales  Quantity  Discount  Profit  Shipping Cost\n0    8.0  140.0       2.0      0.05    46.0            4.6\n1    2.0  211.0       3.0      0.03   112.0           11.2\n2    8.0  117.0       5.0      0.01    31.2            3.1\n3    7.0  118.0       2.0      0.05    26.2            2.6\n4    9.0  250.0       1.0      0.04   160.0           16.0"
          },
          "metadata": {}
        }
      ],
      "execution_count": 237,
      "metadata": {
        "gather": {
          "logged": 1619519714756
        }
      }
    },
    {
      "cell_type": "markdown",
      "source": [
        "### Cleanse data "
      ],
      "metadata": {}
    },
    {
      "cell_type": "code",
      "source": [
        "dataset.describe()"
      ],
      "outputs": [
        {
          "output_type": "execute_result",
          "execution_count": 238,
          "data": {
            "text/html": "<div>\n<style scoped>\n    .dataframe tbody tr th:only-of-type {\n        vertical-align: middle;\n    }\n\n    .dataframe tbody tr th {\n        vertical-align: top;\n    }\n\n    .dataframe thead th {\n        text-align: right;\n    }\n</style>\n<table border=\"1\" class=\"dataframe\">\n  <thead>\n    <tr style=\"text-align: right;\">\n      <th></th>\n      <th>Aging</th>\n      <th>Sales</th>\n      <th>Quantity</th>\n      <th>Discount</th>\n      <th>Profit</th>\n      <th>Shipping Cost</th>\n    </tr>\n  </thead>\n  <tbody>\n    <tr>\n      <th>count</th>\n      <td>51288.000000</td>\n      <td>51289.000000</td>\n      <td>51288.000000</td>\n      <td>51289.000000</td>\n      <td>51290.000000</td>\n      <td>51289.000000</td>\n    </tr>\n    <tr>\n      <th>mean</th>\n      <td>5.254933</td>\n      <td>156.430619</td>\n      <td>2.997368</td>\n      <td>0.029971</td>\n      <td>72.725157</td>\n      <td>7.272932</td>\n    </tr>\n    <tr>\n      <th>std</th>\n      <td>2.959887</td>\n      <td>65.781574</td>\n      <td>1.413446</td>\n      <td>0.014114</td>\n      <td>49.097680</td>\n      <td>4.908497</td>\n    </tr>\n    <tr>\n      <th>min</th>\n      <td>1.000000</td>\n      <td>33.000000</td>\n      <td>1.000000</td>\n      <td>0.010000</td>\n      <td>0.500000</td>\n      <td>0.100000</td>\n    </tr>\n    <tr>\n      <th>25%</th>\n      <td>3.000000</td>\n      <td>109.000000</td>\n      <td>2.000000</td>\n      <td>0.020000</td>\n      <td>25.700000</td>\n      <td>2.600000</td>\n    </tr>\n    <tr>\n      <th>50%</th>\n      <td>5.000000</td>\n      <td>159.000000</td>\n      <td>3.000000</td>\n      <td>0.030000</td>\n      <td>67.000000</td>\n      <td>6.700000</td>\n    </tr>\n    <tr>\n      <th>75%</th>\n      <td>8.000000</td>\n      <td>218.000000</td>\n      <td>4.000000</td>\n      <td>0.040000</td>\n      <td>120.600000</td>\n      <td>12.100000</td>\n    </tr>\n    <tr>\n      <th>max</th>\n      <td>10.000000</td>\n      <td>250.000000</td>\n      <td>5.000000</td>\n      <td>0.050000</td>\n      <td>167.500000</td>\n      <td>16.800000</td>\n    </tr>\n  </tbody>\n</table>\n</div>",
            "text/plain": "              Aging         Sales      Quantity      Discount        Profit  \\\ncount  51288.000000  51289.000000  51288.000000  51289.000000  51290.000000   \nmean       5.254933    156.430619      2.997368      0.029971     72.725157   \nstd        2.959887     65.781574      1.413446      0.014114     49.097680   \nmin        1.000000     33.000000      1.000000      0.010000      0.500000   \n25%        3.000000    109.000000      2.000000      0.020000     25.700000   \n50%        5.000000    159.000000      3.000000      0.030000     67.000000   \n75%        8.000000    218.000000      4.000000      0.040000    120.600000   \nmax       10.000000    250.000000      5.000000      0.050000    167.500000   \n\n       Shipping Cost  \ncount   51289.000000  \nmean        7.272932  \nstd         4.908497  \nmin         0.100000  \n25%         2.600000  \n50%         6.700000  \n75%        12.100000  \nmax        16.800000  "
          },
          "metadata": {}
        }
      ],
      "execution_count": 238,
      "metadata": {
        "gather": {
          "logged": 1619512810581
        },
        "jupyter": {
          "outputs_hidden": false,
          "source_hidden": false
        },
        "nteract": {
          "transient": {
            "deleting": false
          }
        }
      }
    },
    {
      "cell_type": "code",
      "source": [
        "dataset.fillna (0, inplace=True)\n",
        "\n",
        "dataset.dtypes"
      ],
      "outputs": [
        {
          "output_type": "execute_result",
          "execution_count": 239,
          "data": {
            "text/plain": "Aging            float64\nSales            float64\nQuantity         float64\nDiscount         float64\nProfit           float64\nShipping Cost    float64\ndtype: object"
          },
          "metadata": {}
        }
      ],
      "execution_count": 239,
      "metadata": {
        "gather": {
          "logged": 1619519732822
        },
        "jupyter": {
          "outputs_hidden": false,
          "source_hidden": false
        },
        "nteract": {
          "transient": {
            "deleting": false
          }
        }
      }
    },
    {
      "cell_type": "markdown",
      "source": [
        "Split the data into training and test sets by using the `train_test_split` function in the `scikit-learn` library. This function segregates the data into the x (**features**) data set for model training and the y (**values to predict**) data set for testing. The `test_size` parameter determines the percentage of data to allocate to testing. The `random_state` parameter sets a seed to the random generator, so that your train-test splits are deterministic."
      ],
      "metadata": {}
    },
    {
      "cell_type": "code",
      "source": [
        "from sklearn.model_selection import train_test_split\n",
        "train_x, test_x, train_y, test_y = train_test_split(dataset.drop('Profit', axis=1), dataset['Profit'], test_size=0.2, random_state=42)"
      ],
      "outputs": [],
      "execution_count": 240,
      "metadata": {
        "gather": {
          "logged": 1619519748146
        },
        "jupyter": {
          "outputs_hidden": false,
          "source_hidden": false
        },
        "nteract": {
          "transient": {
            "deleting": false
          }
        }
      }
    },
    {
      "cell_type": "code",
      "source": [
        "train_x.shape"
      ],
      "outputs": [
        {
          "output_type": "execute_result",
          "execution_count": 241,
          "data": {
            "text/plain": "(41032, 5)"
          },
          "metadata": {}
        }
      ],
      "execution_count": 241,
      "metadata": {
        "gather": {
          "logged": 1619519759835
        },
        "jupyter": {
          "outputs_hidden": false,
          "source_hidden": false
        },
        "nteract": {
          "transient": {
            "deleting": false
          }
        }
      }
    },
    {
      "cell_type": "code",
      "source": [
        "test_x.shape"
      ],
      "outputs": [
        {
          "output_type": "execute_result",
          "execution_count": 242,
          "data": {
            "text/plain": "(10258, 5)"
          },
          "metadata": {}
        }
      ],
      "execution_count": 242,
      "metadata": {
        "gather": {
          "logged": 1619519762364
        },
        "jupyter": {
          "outputs_hidden": false,
          "source_hidden": false
        },
        "nteract": {
          "transient": {
            "deleting": false
          }
        }
      }
    },
    {
      "cell_type": "code",
      "source": [
        "from sklearn.linear_model import LinearRegression\n",
        "regressor = LinearRegression()\n",
        "regressor.fit(train_x,train_y)"
      ],
      "outputs": [
        {
          "output_type": "execute_result",
          "execution_count": 243,
          "data": {
            "text/plain": "LinearRegression(copy_X=True, fit_intercept=True, n_jobs=None, normalize=False)"
          },
          "metadata": {}
        }
      ],
      "execution_count": 243,
      "metadata": {
        "gather": {
          "logged": 1619519770076
        },
        "jupyter": {
          "outputs_hidden": false,
          "source_hidden": false
        },
        "nteract": {
          "transient": {
            "deleting": false
          }
        }
      }
    },
    {
      "cell_type": "code",
      "source": [
        "y_pred = regressor.predict(test_x) \n",
        "y_pred"
      ],
      "outputs": [
        {
          "output_type": "execute_result",
          "execution_count": 244,
          "data": {
            "text/plain": "array([ 65.02769478, 139.97894884,  48.01483459, ...,  11.93473771,\n       111.99601428,  20.91991442])"
          },
          "metadata": {}
        }
      ],
      "execution_count": 244,
      "metadata": {
        "gather": {
          "logged": 1619519773370
        },
        "jupyter": {
          "outputs_hidden": false,
          "source_hidden": false
        },
        "nteract": {
          "transient": {
            "deleting": false
          }
        }
      }
    },
    {
      "cell_type": "code",
      "source": [
        "test_y"
      ],
      "outputs": [
        {
          "output_type": "execute_result",
          "execution_count": 245,
          "data": {
            "text/plain": "49728     64.7\n45547    139.5\n15664     47.7\n40561     28.3\n49426     17.6\n         ...  \n10271     15.6\n43411     17.0\n49462     12.4\n30658    112.1\n34372     20.7\nName: Profit, Length: 10258, dtype: float64"
          },
          "metadata": {}
        }
      ],
      "execution_count": 245,
      "metadata": {
        "gather": {
          "logged": 1619519777593
        },
        "jupyter": {
          "outputs_hidden": false,
          "source_hidden": false
        },
        "nteract": {
          "transient": {
            "deleting": false
          }
        }
      }
    },
    {
      "cell_type": "code",
      "source": [
        "predicted = regressor.predict(test_x)\n",
        "regressor.score(test_x, test_y)"
      ],
      "outputs": [
        {
          "output_type": "execute_result",
          "execution_count": 246,
          "data": {
            "text/plain": "0.9999639135818107"
          },
          "metadata": {}
        }
      ],
      "execution_count": 246,
      "metadata": {
        "jupyter": {
          "outputs_hidden": false,
          "source_hidden": false
        },
        "nteract": {
          "transient": {
            "deleting": false
          }
        }
      }
    }
  ],
  "metadata": {
    "authors": [
      {
        "name": "jeffshep"
      }
    ],
    "microsoft": {
      "host": {
        "AzureML": {
          "notebookHasBeenCompleted": true
        }
      }
    },
    "network_required": false,
    "kernel_info": {
      "name": "python3-azureml"
    },
    "msauthor": "trbye",
    "language_info": {
      "name": "python",
      "version": "3.6.9",
      "mimetype": "text/x-python",
      "codemirror_mode": {
        "name": "ipython",
        "version": 3
      },
      "pygments_lexer": "ipython3",
      "nbconvert_exporter": "python",
      "file_extension": ".py"
    },
    "kernelspec": {
      "name": "python3-azureml",
      "language": "python",
      "display_name": "Python 3.6 - AzureML"
    },
    "categories": [
      "tutorials"
    ],
    "nteract": {
      "version": "nteract-front-end@1.0.0"
    }
  },
  "nbformat": 4,
  "nbformat_minor": 2
}