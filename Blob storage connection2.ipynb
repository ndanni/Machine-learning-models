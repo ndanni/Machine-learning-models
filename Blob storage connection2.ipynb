{
  "cells": [
    {
      "cell_type": "code",
      "source": [
        "pip install azure-storage-file-datalake"
      ],
      "outputs": [
        {
          "output_type": "stream",
          "name": "stdout",
          "text": [
            "Requirement already satisfied: azure-storage-file-datalake in /anaconda/envs/azureml_py36/lib/python3.6/site-packages (12.3.1)\n",
            "Requirement already satisfied: azure-storage-blob<13.0.0,>=12.8.0b1 in /anaconda/envs/azureml_py36/lib/python3.6/site-packages (from azure-storage-file-datalake) (12.8.0)\n",
            "Requirement already satisfied: azure-core<2.0.0,>=1.10.0 in /anaconda/envs/azureml_py36/lib/python3.6/site-packages (from azure-storage-file-datalake) (1.13.0)\n",
            "Requirement already satisfied: msrest>=0.6.18 in /anaconda/envs/azureml_py36/lib/python3.6/site-packages (from azure-storage-file-datalake) (0.6.21)\n",
            "Requirement already satisfied: cryptography>=2.1.4 in /anaconda/envs/azureml_py36/lib/python3.6/site-packages (from azure-storage-blob<13.0.0,>=12.8.0b1->azure-storage-file-datalake) (3.4.7)\n",
            "Requirement already satisfied: requests>=2.18.4 in /anaconda/envs/azureml_py36/lib/python3.6/site-packages (from azure-core<2.0.0,>=1.10.0->azure-storage-file-datalake) (2.25.1)\n",
            "Requirement already satisfied: six>=1.11.0 in /anaconda/envs/azureml_py36/lib/python3.6/site-packages (from azure-core<2.0.0,>=1.10.0->azure-storage-file-datalake) (1.15.0)\n",
            "Requirement already satisfied: certifi>=2017.4.17 in /anaconda/envs/azureml_py36/lib/python3.6/site-packages (from msrest>=0.6.18->azure-storage-file-datalake) (2020.12.5)\n",
            "Requirement already satisfied: requests-oauthlib>=0.5.0 in /anaconda/envs/azureml_py36/lib/python3.6/site-packages (from msrest>=0.6.18->azure-storage-file-datalake) (1.3.0)\n",
            "Requirement already satisfied: isodate>=0.6.0 in /anaconda/envs/azureml_py36/lib/python3.6/site-packages (from msrest>=0.6.18->azure-storage-file-datalake) (0.6.0)\n",
            "Requirement already satisfied: cffi>=1.12 in /anaconda/envs/azureml_py36/lib/python3.6/site-packages (from cryptography>=2.1.4->azure-storage-blob<13.0.0,>=12.8.0b1->azure-storage-file-datalake) (1.14.5)\n",
            "Requirement already satisfied: chardet<5,>=3.0.2 in /anaconda/envs/azureml_py36/lib/python3.6/site-packages (from requests>=2.18.4->azure-core<2.0.0,>=1.10.0->azure-storage-file-datalake) (4.0.0)\n",
            "Requirement already satisfied: urllib3<1.27,>=1.21.1 in /anaconda/envs/azureml_py36/lib/python3.6/site-packages (from requests>=2.18.4->azure-core<2.0.0,>=1.10.0->azure-storage-file-datalake) (1.25.11)\n",
            "Requirement already satisfied: idna<3,>=2.5 in /anaconda/envs/azureml_py36/lib/python3.6/site-packages (from requests>=2.18.4->azure-core<2.0.0,>=1.10.0->azure-storage-file-datalake) (2.10)\n",
            "Requirement already satisfied: oauthlib>=3.0.0 in /anaconda/envs/azureml_py36/lib/python3.6/site-packages (from requests-oauthlib>=0.5.0->msrest>=0.6.18->azure-storage-file-datalake) (3.1.0)\n",
            "Requirement already satisfied: pycparser in /anaconda/envs/azureml_py36/lib/python3.6/site-packages (from cffi>=1.12->cryptography>=2.1.4->azure-storage-blob<13.0.0,>=12.8.0b1->azure-storage-file-datalake) (2.20)\n",
            "Note: you may need to restart the kernel to use updated packages.\n"
          ]
        }
      ],
      "execution_count": 1,
      "metadata": {
        "gather": {
          "logged": 1620310009246
        }
      },
      "id": "d8ac2dc7"
    },
    {
      "cell_type": "code",
      "source": [
        "import pandas as pd\n",
        "import os, uuid, sys\n",
        "from azure.storage.filedatalake import DataLakeServiceClient\n",
        "from azure.core._match_conditions import MatchConditions\n",
        "from azure.storage.filedatalake._models import ContentSettings"
      ],
      "outputs": [],
      "execution_count": 3,
      "metadata": {
        "gather": {
          "logged": 1620317431589
        }
      },
      "id": "2bceea64"
    },
    {
      "cell_type": "code",
      "source": [
        "storage_account_name = '***************'\n",
        "storage_account_key = '************************'\n",
        "\n",
        "def initialize_storage_account(storage_account_name, storage_account_key):\n",
        "    \n",
        "    try:  \n",
        "        global service_client\n",
        "\n",
        "        service_client = DataLakeServiceClient(account_url=\"https://temporal4321.blob.core.windows.net/ecommerce/\".format(\n",
        "            \"https\", storage_account_name), credential=storage_account_key)\n",
        "    \n",
        "    except Exception as e:\n",
        "        print(e)\n"
      ],
      "outputs": [],
      "execution_count": 4,
      "metadata": {
        "gather": {
          "logged": 1620317433969
        }
      },
      "id": "4a6b70ec"
    },
    {
      "cell_type": "code",
      "source": [
        "df = pd.read_csv(r\"https://temporal4321.blob.core.windows.net/ecommerce/ecommerce.csv\")\n",
        "df.head()"
      ],
      "outputs": [
        {
          "output_type": "stream",
          "name": "stderr",
          "text": [
            "/anaconda/envs/azureml_py36/lib/python3.6/site-packages/IPython/core/interactiveshell.py:3072: DtypeWarning: Columns (7,8,9,11) have mixed types. Specify dtype option on import or set low_memory=False.\n",
            "  interactivity=interactivity, compiler=compiler, result=result)\n"
          ]
        },
        {
          "output_type": "execute_result",
          "execution_count": 5,
          "data": {
            "text/plain": "    Order ID Order Date   Ship Date  Aging    Ship Mode    Product Category  \\\n0  AU-2015-1  11/9/2015  11/17/2015    8.0  First Class  Auto & Accessories   \n1  AU-2015-2  6/30/2015    7/2/2015    2.0  First Class  Auto & Accessories   \n2  AU-2015-3  12/5/2015  12/13/2015    8.0  First Class  Auto & Accessories   \n3  AU-2015-4   5/9/2015   5/16/2015    7.0  First Class  Auto & Accessories   \n4  AU-2015-5   7/9/2015   7/18/2015    9.0  First Class  Auto & Accessories   \n\n             Product   Sales Quantity Discount  ...  Shipping Cost  \\\n0  Car Media Players  140.00        2     0.05  ...           4.60   \n1       Car Speakers  211.00        3     0.03  ...          11.20   \n2    Car Body Covers  117.00        5     0.01  ...           3.10   \n3    Car & Bike Care  118.00        2     0.05  ...           2.60   \n4               Tyre  250.00        1     0.04  ...          16.00   \n\n  Order Priority Customer ID    Customer Name      Segment        City  \\\n0         Medium      LS-001     Lane Daniels     Consumer    Brisbane   \n1         Medium      IZ-002    Alvarado Kriz  Home Office      Berlin   \n2       Critical      EN-003       Moon Weien     Consumer     Porirua   \n3           High      AN-004  Sanchez Bergman    Corporate       Kabul   \n4       Critical      ON-005     Rowe Jackson    Corporate  Townsville   \n\n        State      Country        Region Months  \n0  Queensland    Australia       Oceania    Nov  \n1      Berlin      Germany       Central    Jun  \n2  Wellington  New Zealand       Oceania    Dec  \n3       Kabul  Afghanistan  Central Asia    May  \n4  Queensland    Australia       Oceania    Jul  \n\n[5 rows x 21 columns]",
            "text/html": "<div>\n<style scoped>\n    .dataframe tbody tr th:only-of-type {\n        vertical-align: middle;\n    }\n\n    .dataframe tbody tr th {\n        vertical-align: top;\n    }\n\n    .dataframe thead th {\n        text-align: right;\n    }\n</style>\n<table border=\"1\" class=\"dataframe\">\n  <thead>\n    <tr style=\"text-align: right;\">\n      <th></th>\n      <th>Order ID</th>\n      <th>Order Date</th>\n      <th>Ship Date</th>\n      <th>Aging</th>\n      <th>Ship Mode</th>\n      <th>Product Category</th>\n      <th>Product</th>\n      <th>Sales</th>\n      <th>Quantity</th>\n      <th>Discount</th>\n      <th>...</th>\n      <th>Shipping Cost</th>\n      <th>Order Priority</th>\n      <th>Customer ID</th>\n      <th>Customer Name</th>\n      <th>Segment</th>\n      <th>City</th>\n      <th>State</th>\n      <th>Country</th>\n      <th>Region</th>\n      <th>Months</th>\n    </tr>\n  </thead>\n  <tbody>\n    <tr>\n      <th>0</th>\n      <td>AU-2015-1</td>\n      <td>11/9/2015</td>\n      <td>11/17/2015</td>\n      <td>8.0</td>\n      <td>First Class</td>\n      <td>Auto &amp; Accessories</td>\n      <td>Car Media Players</td>\n      <td>140.00</td>\n      <td>2</td>\n      <td>0.05</td>\n      <td>...</td>\n      <td>4.60</td>\n      <td>Medium</td>\n      <td>LS-001</td>\n      <td>Lane Daniels</td>\n      <td>Consumer</td>\n      <td>Brisbane</td>\n      <td>Queensland</td>\n      <td>Australia</td>\n      <td>Oceania</td>\n      <td>Nov</td>\n    </tr>\n    <tr>\n      <th>1</th>\n      <td>AU-2015-2</td>\n      <td>6/30/2015</td>\n      <td>7/2/2015</td>\n      <td>2.0</td>\n      <td>First Class</td>\n      <td>Auto &amp; Accessories</td>\n      <td>Car Speakers</td>\n      <td>211.00</td>\n      <td>3</td>\n      <td>0.03</td>\n      <td>...</td>\n      <td>11.20</td>\n      <td>Medium</td>\n      <td>IZ-002</td>\n      <td>Alvarado Kriz</td>\n      <td>Home Office</td>\n      <td>Berlin</td>\n      <td>Berlin</td>\n      <td>Germany</td>\n      <td>Central</td>\n      <td>Jun</td>\n    </tr>\n    <tr>\n      <th>2</th>\n      <td>AU-2015-3</td>\n      <td>12/5/2015</td>\n      <td>12/13/2015</td>\n      <td>8.0</td>\n      <td>First Class</td>\n      <td>Auto &amp; Accessories</td>\n      <td>Car Body Covers</td>\n      <td>117.00</td>\n      <td>5</td>\n      <td>0.01</td>\n      <td>...</td>\n      <td>3.10</td>\n      <td>Critical</td>\n      <td>EN-003</td>\n      <td>Moon Weien</td>\n      <td>Consumer</td>\n      <td>Porirua</td>\n      <td>Wellington</td>\n      <td>New Zealand</td>\n      <td>Oceania</td>\n      <td>Dec</td>\n    </tr>\n    <tr>\n      <th>3</th>\n      <td>AU-2015-4</td>\n      <td>5/9/2015</td>\n      <td>5/16/2015</td>\n      <td>7.0</td>\n      <td>First Class</td>\n      <td>Auto &amp; Accessories</td>\n      <td>Car &amp; Bike Care</td>\n      <td>118.00</td>\n      <td>2</td>\n      <td>0.05</td>\n      <td>...</td>\n      <td>2.60</td>\n      <td>High</td>\n      <td>AN-004</td>\n      <td>Sanchez Bergman</td>\n      <td>Corporate</td>\n      <td>Kabul</td>\n      <td>Kabul</td>\n      <td>Afghanistan</td>\n      <td>Central Asia</td>\n      <td>May</td>\n    </tr>\n    <tr>\n      <th>4</th>\n      <td>AU-2015-5</td>\n      <td>7/9/2015</td>\n      <td>7/18/2015</td>\n      <td>9.0</td>\n      <td>First Class</td>\n      <td>Auto &amp; Accessories</td>\n      <td>Tyre</td>\n      <td>250.00</td>\n      <td>1</td>\n      <td>0.04</td>\n      <td>...</td>\n      <td>16.00</td>\n      <td>Critical</td>\n      <td>ON-005</td>\n      <td>Rowe Jackson</td>\n      <td>Corporate</td>\n      <td>Townsville</td>\n      <td>Queensland</td>\n      <td>Australia</td>\n      <td>Oceania</td>\n      <td>Jul</td>\n    </tr>\n  </tbody>\n</table>\n<p>5 rows × 21 columns</p>\n</div>"
          },
          "metadata": {}
        }
      ],
      "execution_count": 5,
      "metadata": {
        "gather": {
          "logged": 1620317439806
        }
      },
      "id": "ec678cd6"
    }
  ],
  "metadata": {
    "kernelspec": {
      "name": "python3-azureml",
      "language": "python",
      "display_name": "Python 3.6 - AzureML"
    },
    "language_info": {
      "name": "python",
      "version": "3.6.9",
      "mimetype": "text/x-python",
      "codemirror_mode": {
        "name": "ipython",
        "version": 3
      },
      "pygments_lexer": "ipython3",
      "nbconvert_exporter": "python",
      "file_extension": ".py"
    },
    "kernel_info": {
      "name": "python3-azureml"
    },
    "nteract": {
      "version": "nteract-front-end@1.0.0"
    },
    "microsoft": {
      "host": {
        "AzureML": {
          "notebookHasBeenCompleted": true
        }
      }
    }
  },
  "nbformat": 4,
  "nbformat_minor": 5
}